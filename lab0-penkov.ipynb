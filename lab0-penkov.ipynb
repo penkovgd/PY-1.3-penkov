{
  "nbformat": 4,
  "nbformat_minor": 0,
  "metadata": {
    "colab": {
      "provenance": [],
      "include_colab_link": true
    },
    "kernelspec": {
      "name": "python3",
      "display_name": "Python 3"
    },
    "language_info": {
      "name": "python"
    }
  },
  "cells": [
    {
      "cell_type": "markdown",
      "metadata": {
        "id": "view-in-github",
        "colab_type": "text"
      },
      "source": [
        "<a href=\"https://colab.research.google.com/github/penkovgd/PY-1.3-penkov/blob/main/lab0-penkov.ipynb\" target=\"_parent\"><img src=\"https://colab.research.google.com/assets/colab-badge.svg\" alt=\"Open In Colab\"/></a>"
      ]
    },
    {
      "cell_type": "markdown",
      "source": [
        "## Постановка задачи"
      ],
      "metadata": {
        "id": "zWtvx3ytRCRn"
      }
    },
    {
      "cell_type": "markdown",
      "source": [
        "На первой практике вам предстоит поработать с реальными данными об истории экспертиз рабочих программ дисциплин в ИТМО.\n",
        "\n",
        "**Задача:** сделать краткое исследование данных и построить 3 графика двумя способами. Первый способ - самостоятельно. Второй - с активной помощью ChatGPT, Perplexity или [любого другого ИИ](https://theresanaiforthat.com/). Порядок реализации способов значения не имеет. Библиотеки можно использовать любые.\n",
        "\n",
        "**Цель:** оценить качество помощи ИИ для аналитики. В конце обязательно сделайте текстовый вывод по результатам работы!"
      ],
      "metadata": {
        "id": "yE6HzU8APKDx"
      }
    },
    {
      "cell_type": "markdown",
      "source": [
        "## Загрузка данных"
      ],
      "metadata": {
        "id": "8En2OfTuRGON"
      }
    },
    {
      "cell_type": "markdown",
      "source": [
        "Загрузим датасет в колаб, найти его также можно [по ссылке](https://drive.google.com/file/d/1mJoAbyxf7vUU8_bVQvsahdW3HY8uz-V8/view?usp=share_link), если по какой-то причине у вас не работает gdown."
      ],
      "metadata": {
        "id": "531HApKISDuK"
      }
    },
    {
      "cell_type": "code",
      "execution_count": null,
      "metadata": {
        "colab": {
          "base_uri": "https://localhost:8080/"
        },
        "id": "S8NJ6JX-PEkZ",
        "outputId": "75558191-8ff4-44ac-d24b-c99695f3ca15"
      },
      "outputs": [
        {
          "output_type": "stream",
          "name": "stdout",
          "text": [
            "Downloading...\n",
            "From: https://drive.google.com/uc?id=1mJoAbyxf7vUU8_bVQvsahdW3HY8uz-V8\n",
            "To: /content/exp_stats.csv\n",
            "\r  0% 0.00/925k [00:00<?, ?B/s]\r100% 925k/925k [00:00<00:00, 72.8MB/s]\n"
          ]
        }
      ],
      "source": [
        "import pandas as pd\n",
        "\n",
        "!gdown 1mJoAbyxf7vUU8_bVQvsahdW3HY8uz-V8"
      ]
    },
    {
      "cell_type": "markdown",
      "source": [
        "Посмотрим на данные."
      ],
      "metadata": {
        "id": "wpBEnc8CSBQW"
      }
    },
    {
      "cell_type": "code",
      "source": [
        "data = pd.read_csv(\"/content/exp_stats.csv\")\n",
        "data.info()"
      ],
      "metadata": {
        "colab": {
          "base_uri": "https://localhost:8080/"
        },
        "id": "g60s_1z4R6Wz",
        "outputId": "cac60b7f-bed3-4226-80f3-241627ec91fb"
      },
      "execution_count": null,
      "outputs": [
        {
          "output_type": "stream",
          "name": "stdout",
          "text": [
            "<class 'pandas.core.frame.DataFrame'>\n",
            "RangeIndex: 7657 entries, 0 to 7656\n",
            "Data columns (total 6 columns):\n",
            " #   Column             Non-Null Count  Dtype \n",
            "---  ------             --------------  ----- \n",
            " 0   workprogram_id     7657 non-null   int64 \n",
            " 1   user_count         7657 non-null   int64 \n",
            " 2   expertise_status   7657 non-null   object\n",
            " 3   expertise_counter  7657 non-null   int64 \n",
            " 4   approval_date_y    7657 non-null   object\n",
            " 5   title              7657 non-null   object\n",
            "dtypes: int64(3), object(3)\n",
            "memory usage: 359.0+ KB\n"
          ]
        }
      ]
    },
    {
      "cell_type": "markdown",
      "source": [
        "Всего шесть столбцов, все без пропусков:\n",
        "- `workprogram_id` - айди рабочей программы (РПД)\n",
        "- `user_count` - сколько человек принимали участие в создании РПД\n",
        "- `expertise_status` - на каком этапе экспертизы находится РПД (статус экспертизы: AC - одобрена, RE - на доработке, AR - в архиве, EX - на экспертизе, WK - в работе)\n",
        "- `expertise_counter` - сколько раз РПД проходила экспертизу\n",
        "- `approval_date` - день, когда РПД признали удовлетворяющей всем требованиям и разрешили ее реализовывать\n",
        "- `title` - название дисциплины\n"
      ],
      "metadata": {
        "id": "wRhHibqdSTrg"
      }
    },
    {
      "cell_type": "code",
      "source": [
        "data.head()"
      ],
      "metadata": {
        "colab": {
          "base_uri": "https://localhost:8080/",
          "height": 204
        },
        "id": "d3tm9FphSRqp",
        "outputId": "6d0a25a0-6872-4cfc-9316-e748ba1e4f64"
      },
      "execution_count": null,
      "outputs": [
        {
          "output_type": "execute_result",
          "data": {
            "text/plain": [
              "   workprogram_id  user_count expertise_status  expertise_counter  \\\n",
              "0            2626           4               AC                  1   \n",
              "1            8461           4               AC                  1   \n",
              "2            2627           3               AC                  5   \n",
              "3            2628           4               AC                  0   \n",
              "4            2631           4               AC                  0   \n",
              "\n",
              "                 approval_date_y  \\\n",
              "0  2022-05-06 14:23:17.924 +0200   \n",
              "1  2022-04-28 09:01:59.171 +0200   \n",
              "2  2021-08-31 20:51:19.142 +0200   \n",
              "3  2022-04-28 11:36:30.474 +0200   \n",
              "4  2022-04-28 12:06:31.165 +0200   \n",
              "\n",
              "                                             title  \n",
              "0                                        Философия  \n",
              "1                                        Философия  \n",
              "2  Введение в цифровую культуру и программирование  \n",
              "3                        Проектирование баз данных  \n",
              "4                  Современные вопросы информатики  "
            ],
            "text/html": [
              "\n",
              "  <div id=\"df-a4c93d1a-00eb-4b30-90d5-f98b4a2ad23f\" class=\"colab-df-container\">\n",
              "    <div>\n",
              "<style scoped>\n",
              "    .dataframe tbody tr th:only-of-type {\n",
              "        vertical-align: middle;\n",
              "    }\n",
              "\n",
              "    .dataframe tbody tr th {\n",
              "        vertical-align: top;\n",
              "    }\n",
              "\n",
              "    .dataframe thead th {\n",
              "        text-align: right;\n",
              "    }\n",
              "</style>\n",
              "<table border=\"1\" class=\"dataframe\">\n",
              "  <thead>\n",
              "    <tr style=\"text-align: right;\">\n",
              "      <th></th>\n",
              "      <th>workprogram_id</th>\n",
              "      <th>user_count</th>\n",
              "      <th>expertise_status</th>\n",
              "      <th>expertise_counter</th>\n",
              "      <th>approval_date_y</th>\n",
              "      <th>title</th>\n",
              "    </tr>\n",
              "  </thead>\n",
              "  <tbody>\n",
              "    <tr>\n",
              "      <th>0</th>\n",
              "      <td>2626</td>\n",
              "      <td>4</td>\n",
              "      <td>AC</td>\n",
              "      <td>1</td>\n",
              "      <td>2022-05-06 14:23:17.924 +0200</td>\n",
              "      <td>Философия</td>\n",
              "    </tr>\n",
              "    <tr>\n",
              "      <th>1</th>\n",
              "      <td>8461</td>\n",
              "      <td>4</td>\n",
              "      <td>AC</td>\n",
              "      <td>1</td>\n",
              "      <td>2022-04-28 09:01:59.171 +0200</td>\n",
              "      <td>Философия</td>\n",
              "    </tr>\n",
              "    <tr>\n",
              "      <th>2</th>\n",
              "      <td>2627</td>\n",
              "      <td>3</td>\n",
              "      <td>AC</td>\n",
              "      <td>5</td>\n",
              "      <td>2021-08-31 20:51:19.142 +0200</td>\n",
              "      <td>Введение в цифровую культуру и программирование</td>\n",
              "    </tr>\n",
              "    <tr>\n",
              "      <th>3</th>\n",
              "      <td>2628</td>\n",
              "      <td>4</td>\n",
              "      <td>AC</td>\n",
              "      <td>0</td>\n",
              "      <td>2022-04-28 11:36:30.474 +0200</td>\n",
              "      <td>Проектирование баз данных</td>\n",
              "    </tr>\n",
              "    <tr>\n",
              "      <th>4</th>\n",
              "      <td>2631</td>\n",
              "      <td>4</td>\n",
              "      <td>AC</td>\n",
              "      <td>0</td>\n",
              "      <td>2022-04-28 12:06:31.165 +0200</td>\n",
              "      <td>Современные вопросы информатики</td>\n",
              "    </tr>\n",
              "  </tbody>\n",
              "</table>\n",
              "</div>\n",
              "    <div class=\"colab-df-buttons\">\n",
              "\n",
              "  <div class=\"colab-df-container\">\n",
              "    <button class=\"colab-df-convert\" onclick=\"convertToInteractive('df-a4c93d1a-00eb-4b30-90d5-f98b4a2ad23f')\"\n",
              "            title=\"Convert this dataframe to an interactive table.\"\n",
              "            style=\"display:none;\">\n",
              "\n",
              "  <svg xmlns=\"http://www.w3.org/2000/svg\" height=\"24px\" viewBox=\"0 -960 960 960\">\n",
              "    <path d=\"M120-120v-720h720v720H120Zm60-500h600v-160H180v160Zm220 220h160v-160H400v160Zm0 220h160v-160H400v160ZM180-400h160v-160H180v160Zm440 0h160v-160H620v160ZM180-180h160v-160H180v160Zm440 0h160v-160H620v160Z\"/>\n",
              "  </svg>\n",
              "    </button>\n",
              "\n",
              "  <style>\n",
              "    .colab-df-container {\n",
              "      display:flex;\n",
              "      gap: 12px;\n",
              "    }\n",
              "\n",
              "    .colab-df-convert {\n",
              "      background-color: #E8F0FE;\n",
              "      border: none;\n",
              "      border-radius: 50%;\n",
              "      cursor: pointer;\n",
              "      display: none;\n",
              "      fill: #1967D2;\n",
              "      height: 32px;\n",
              "      padding: 0 0 0 0;\n",
              "      width: 32px;\n",
              "    }\n",
              "\n",
              "    .colab-df-convert:hover {\n",
              "      background-color: #E2EBFA;\n",
              "      box-shadow: 0px 1px 2px rgba(60, 64, 67, 0.3), 0px 1px 3px 1px rgba(60, 64, 67, 0.15);\n",
              "      fill: #174EA6;\n",
              "    }\n",
              "\n",
              "    .colab-df-buttons div {\n",
              "      margin-bottom: 4px;\n",
              "    }\n",
              "\n",
              "    [theme=dark] .colab-df-convert {\n",
              "      background-color: #3B4455;\n",
              "      fill: #D2E3FC;\n",
              "    }\n",
              "\n",
              "    [theme=dark] .colab-df-convert:hover {\n",
              "      background-color: #434B5C;\n",
              "      box-shadow: 0px 1px 3px 1px rgba(0, 0, 0, 0.15);\n",
              "      filter: drop-shadow(0px 1px 2px rgba(0, 0, 0, 0.3));\n",
              "      fill: #FFFFFF;\n",
              "    }\n",
              "  </style>\n",
              "\n",
              "    <script>\n",
              "      const buttonEl =\n",
              "        document.querySelector('#df-a4c93d1a-00eb-4b30-90d5-f98b4a2ad23f button.colab-df-convert');\n",
              "      buttonEl.style.display =\n",
              "        google.colab.kernel.accessAllowed ? 'block' : 'none';\n",
              "\n",
              "      async function convertToInteractive(key) {\n",
              "        const element = document.querySelector('#df-a4c93d1a-00eb-4b30-90d5-f98b4a2ad23f');\n",
              "        const dataTable =\n",
              "          await google.colab.kernel.invokeFunction('convertToInteractive',\n",
              "                                                    [key], {});\n",
              "        if (!dataTable) return;\n",
              "\n",
              "        const docLinkHtml = 'Like what you see? Visit the ' +\n",
              "          '<a target=\"_blank\" href=https://colab.research.google.com/notebooks/data_table.ipynb>data table notebook</a>'\n",
              "          + ' to learn more about interactive tables.';\n",
              "        element.innerHTML = '';\n",
              "        dataTable['output_type'] = 'display_data';\n",
              "        await google.colab.output.renderOutput(dataTable, element);\n",
              "        const docLink = document.createElement('div');\n",
              "        docLink.innerHTML = docLinkHtml;\n",
              "        element.appendChild(docLink);\n",
              "      }\n",
              "    </script>\n",
              "  </div>\n",
              "\n",
              "\n",
              "<div id=\"df-8a010570-75dc-4bdb-9192-18a6fc93bf5a\">\n",
              "  <button class=\"colab-df-quickchart\" onclick=\"quickchart('df-8a010570-75dc-4bdb-9192-18a6fc93bf5a')\"\n",
              "            title=\"Suggest charts.\"\n",
              "            style=\"display:none;\">\n",
              "\n",
              "<svg xmlns=\"http://www.w3.org/2000/svg\" height=\"24px\"viewBox=\"0 0 24 24\"\n",
              "     width=\"24px\">\n",
              "    <g>\n",
              "        <path d=\"M19 3H5c-1.1 0-2 .9-2 2v14c0 1.1.9 2 2 2h14c1.1 0 2-.9 2-2V5c0-1.1-.9-2-2-2zM9 17H7v-7h2v7zm4 0h-2V7h2v10zm4 0h-2v-4h2v4z\"/>\n",
              "    </g>\n",
              "</svg>\n",
              "  </button>\n",
              "\n",
              "<style>\n",
              "  .colab-df-quickchart {\n",
              "      --bg-color: #E8F0FE;\n",
              "      --fill-color: #1967D2;\n",
              "      --hover-bg-color: #E2EBFA;\n",
              "      --hover-fill-color: #174EA6;\n",
              "      --disabled-fill-color: #AAA;\n",
              "      --disabled-bg-color: #DDD;\n",
              "  }\n",
              "\n",
              "  [theme=dark] .colab-df-quickchart {\n",
              "      --bg-color: #3B4455;\n",
              "      --fill-color: #D2E3FC;\n",
              "      --hover-bg-color: #434B5C;\n",
              "      --hover-fill-color: #FFFFFF;\n",
              "      --disabled-bg-color: #3B4455;\n",
              "      --disabled-fill-color: #666;\n",
              "  }\n",
              "\n",
              "  .colab-df-quickchart {\n",
              "    background-color: var(--bg-color);\n",
              "    border: none;\n",
              "    border-radius: 50%;\n",
              "    cursor: pointer;\n",
              "    display: none;\n",
              "    fill: var(--fill-color);\n",
              "    height: 32px;\n",
              "    padding: 0;\n",
              "    width: 32px;\n",
              "  }\n",
              "\n",
              "  .colab-df-quickchart:hover {\n",
              "    background-color: var(--hover-bg-color);\n",
              "    box-shadow: 0 1px 2px rgba(60, 64, 67, 0.3), 0 1px 3px 1px rgba(60, 64, 67, 0.15);\n",
              "    fill: var(--button-hover-fill-color);\n",
              "  }\n",
              "\n",
              "  .colab-df-quickchart-complete:disabled,\n",
              "  .colab-df-quickchart-complete:disabled:hover {\n",
              "    background-color: var(--disabled-bg-color);\n",
              "    fill: var(--disabled-fill-color);\n",
              "    box-shadow: none;\n",
              "  }\n",
              "\n",
              "  .colab-df-spinner {\n",
              "    border: 2px solid var(--fill-color);\n",
              "    border-color: transparent;\n",
              "    border-bottom-color: var(--fill-color);\n",
              "    animation:\n",
              "      spin 1s steps(1) infinite;\n",
              "  }\n",
              "\n",
              "  @keyframes spin {\n",
              "    0% {\n",
              "      border-color: transparent;\n",
              "      border-bottom-color: var(--fill-color);\n",
              "      border-left-color: var(--fill-color);\n",
              "    }\n",
              "    20% {\n",
              "      border-color: transparent;\n",
              "      border-left-color: var(--fill-color);\n",
              "      border-top-color: var(--fill-color);\n",
              "    }\n",
              "    30% {\n",
              "      border-color: transparent;\n",
              "      border-left-color: var(--fill-color);\n",
              "      border-top-color: var(--fill-color);\n",
              "      border-right-color: var(--fill-color);\n",
              "    }\n",
              "    40% {\n",
              "      border-color: transparent;\n",
              "      border-right-color: var(--fill-color);\n",
              "      border-top-color: var(--fill-color);\n",
              "    }\n",
              "    60% {\n",
              "      border-color: transparent;\n",
              "      border-right-color: var(--fill-color);\n",
              "    }\n",
              "    80% {\n",
              "      border-color: transparent;\n",
              "      border-right-color: var(--fill-color);\n",
              "      border-bottom-color: var(--fill-color);\n",
              "    }\n",
              "    90% {\n",
              "      border-color: transparent;\n",
              "      border-bottom-color: var(--fill-color);\n",
              "    }\n",
              "  }\n",
              "</style>\n",
              "\n",
              "  <script>\n",
              "    async function quickchart(key) {\n",
              "      const quickchartButtonEl =\n",
              "        document.querySelector('#' + key + ' button');\n",
              "      quickchartButtonEl.disabled = true;  // To prevent multiple clicks.\n",
              "      quickchartButtonEl.classList.add('colab-df-spinner');\n",
              "      try {\n",
              "        const charts = await google.colab.kernel.invokeFunction(\n",
              "            'suggestCharts', [key], {});\n",
              "      } catch (error) {\n",
              "        console.error('Error during call to suggestCharts:', error);\n",
              "      }\n",
              "      quickchartButtonEl.classList.remove('colab-df-spinner');\n",
              "      quickchartButtonEl.classList.add('colab-df-quickchart-complete');\n",
              "    }\n",
              "    (() => {\n",
              "      let quickchartButtonEl =\n",
              "        document.querySelector('#df-8a010570-75dc-4bdb-9192-18a6fc93bf5a button');\n",
              "      quickchartButtonEl.style.display =\n",
              "        google.colab.kernel.accessAllowed ? 'block' : 'none';\n",
              "    })();\n",
              "  </script>\n",
              "</div>\n",
              "    </div>\n",
              "  </div>\n"
            ]
          },
          "metadata": {},
          "execution_count": 42
        }
      ]
    },
    {
      "cell_type": "markdown",
      "source": [
        "## Краткое исследование данных\n",
        "\n",
        "В данных не слишком много столбцов и уже известно, что нет пустых ячеек. Теперь неплохо было бы погрузиться в них и ответить на 3 небольших вопроса:\n",
        "1. Какой период охватывают данные в датасете?\n",
        "2. Есть ли в данных нетипичные значения? Например, неположительные числа в столбце `user_count`. Или даты, которые сильно выбиваются из общего диапазона значений.\n",
        "3. Есть ли нелогичные значения в данных? Например, статус РПД \"в работе\", но есть `approval_date`. Или статус \"одоберно\", но РПД 0 раз проходила экспертизу.\n",
        "\n"
      ],
      "metadata": {
        "id": "ORVDwJXOTMmy"
      }
    },
    {
      "cell_type": "code",
      "source": [
        "# put your code here"
      ],
      "metadata": {
        "id": "Ydiu_JdNTDY6"
      },
      "execution_count": null,
      "outputs": []
    },
    {
      "cell_type": "markdown",
      "source": [
        "Теперь ответьте на более интересные вопросы с использованием визуализаций."
      ],
      "metadata": {
        "id": "XrXcV5qaURDq"
      }
    },
    {
      "cell_type": "markdown",
      "source": [
        "### 1. Как распределяется количество редакторов рабочих программ на всем периоде наблюдений?"
      ],
      "metadata": {
        "id": "mV-mY67jUNWb"
      }
    },
    {
      "cell_type": "code",
      "source": [
        "# put your code here"
      ],
      "metadata": {
        "id": "GPgagewpUMkM"
      },
      "execution_count": null,
      "outputs": []
    },
    {
      "cell_type": "markdown",
      "source": [
        "### 2. Как со временем менялось среднее количество экспертиз РПД?"
      ],
      "metadata": {
        "id": "4DMPKlNBcdKX"
      }
    },
    {
      "cell_type": "code",
      "source": [
        "# put your code here"
      ],
      "metadata": {
        "id": "JhlJnagkUnAf"
      },
      "execution_count": null,
      "outputs": []
    },
    {
      "cell_type": "markdown",
      "source": [
        "### 3. Есть ли зависимость между датой и присвоением статуса \"одобрено\" (AC)?"
      ],
      "metadata": {
        "id": "_s-mSzmKcrsa"
      }
    },
    {
      "cell_type": "code",
      "source": [
        "# put your code here"
      ],
      "metadata": {
        "id": "_XayGdsIcqXB"
      },
      "execution_count": null,
      "outputs": []
    },
    {
      "cell_type": "markdown",
      "source": [
        "### Оцените результаты"
      ],
      "metadata": {
        "id": "I78XdooV4Pyp"
      }
    },
    {
      "cell_type": "markdown",
      "source": [],
      "metadata": {
        "id": "LVXgoYBC4cB8"
      }
    }
  ]
}